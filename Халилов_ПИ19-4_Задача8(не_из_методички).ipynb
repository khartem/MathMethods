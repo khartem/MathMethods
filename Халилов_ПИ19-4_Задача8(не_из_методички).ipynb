{
 "cells": [
  {
   "cell_type": "code",
   "execution_count": 35,
   "id": "f2c99b86",
   "metadata": {},
   "outputs": [],
   "source": [
    "import numpy as np\n",
    "import pandas as pd\n",
    "import random as rand\n",
    "import nashpy\n",
    "from pulp import *\n",
    "import matplotlib.pyplot as plt"
   ]
  },
  {
   "cell_type": "markdown",
   "id": "8a900f5f",
   "metadata": {},
   "source": [
    "### Задача 1"
   ]
  },
  {
   "cell_type": "markdown",
   "id": "3796abae",
   "metadata": {},
   "source": [
    "#### Ручной ввод"
   ]
  },
  {
   "cell_type": "code",
   "execution_count": 176,
   "id": "4136797b",
   "metadata": {},
   "outputs": [
    {
     "name": "stdout",
     "output_type": "stream",
     "text": [
      "Введите матрицу весовых коэффициентов построчно!\n",
      "Введите названия строк:Семечки Гречка Тыква Рис Пшено\n",
      "Введите названия столбцов:Пшено Овёс Гречка Рис Булгур\n",
      "Введите количество строк:5\n",
      "Введите 1 строку матрицы:\n",
      "125 345 217 65 312\n",
      "Введите 2 строку матрицы:\n",
      "355 267 281 109 213\n",
      "Введите 3 строку матрицы:\n",
      "446 447 556 78 23\n",
      "Введите 4 строку матрицы:\n",
      "224 162 181 239 544\n",
      "Введите 5 строку матрицы:\n",
      "123 234 345 456 543\n",
      "\n",
      "Матрица весовых коэффициентов:\n",
      "         Пшено  Овёс  Гречка  Рис  Булгур\n",
      "Семечки    125   345     217   65     312\n",
      "Гречка     355   267     281  109     213\n",
      "Тыква      446   447     556   78      23\n",
      "Рис        224   162     181  239     544\n",
      "Пшено      123   234     345  456     543\n"
     ]
    }
   ],
   "source": [
    "print(\"Введите матрицу весовых коэффициентов построчно!\")\n",
    "rows = list(input(\"Введите названия строк:\").split())\n",
    "columns = list(input(\"Введите названия столбцов:\").split())\n",
    "size = int(input(\"Введите количество строк:\"))\n",
    "matrix = pd.DataFrame(np.array([list(map(int, input(f'Введите {i+1} строку матрицы:\\n').split())) for i in range(size)]), \n",
    "                        index = rows, columns = columns)\n",
    "print('\\nМатрица весовых коэффициентов:')\n",
    "print(matrix)"
   ]
  },
  {
   "cell_type": "code",
   "execution_count": 177,
   "id": "65f244ce",
   "metadata": {},
   "outputs": [
    {
     "data": {
      "text/html": [
       "<div>\n",
       "<style scoped>\n",
       "    .dataframe tbody tr th:only-of-type {\n",
       "        vertical-align: middle;\n",
       "    }\n",
       "\n",
       "    .dataframe tbody tr th {\n",
       "        vertical-align: top;\n",
       "    }\n",
       "\n",
       "    .dataframe thead th {\n",
       "        text-align: right;\n",
       "    }\n",
       "</style>\n",
       "<table border=\"1\" class=\"dataframe\">\n",
       "  <thead>\n",
       "    <tr style=\"text-align: right;\">\n",
       "      <th></th>\n",
       "      <th>Пшено</th>\n",
       "      <th>Овёс</th>\n",
       "      <th>Гречка</th>\n",
       "      <th>Рис</th>\n",
       "      <th>Булгур</th>\n",
       "    </tr>\n",
       "  </thead>\n",
       "  <tbody>\n",
       "    <tr>\n",
       "      <th>Семечки</th>\n",
       "      <td>125</td>\n",
       "      <td>345</td>\n",
       "      <td>217</td>\n",
       "      <td>65</td>\n",
       "      <td>312</td>\n",
       "    </tr>\n",
       "    <tr>\n",
       "      <th>Гречка</th>\n",
       "      <td>355</td>\n",
       "      <td>267</td>\n",
       "      <td>281</td>\n",
       "      <td>109</td>\n",
       "      <td>213</td>\n",
       "    </tr>\n",
       "    <tr>\n",
       "      <th>Тыква</th>\n",
       "      <td>446</td>\n",
       "      <td>447</td>\n",
       "      <td>556</td>\n",
       "      <td>78</td>\n",
       "      <td>23</td>\n",
       "    </tr>\n",
       "    <tr>\n",
       "      <th>Рис</th>\n",
       "      <td>224</td>\n",
       "      <td>162</td>\n",
       "      <td>181</td>\n",
       "      <td>239</td>\n",
       "      <td>544</td>\n",
       "    </tr>\n",
       "    <tr>\n",
       "      <th>Пшено</th>\n",
       "      <td>123</td>\n",
       "      <td>234</td>\n",
       "      <td>345</td>\n",
       "      <td>456</td>\n",
       "      <td>543</td>\n",
       "    </tr>\n",
       "  </tbody>\n",
       "</table>\n",
       "</div>"
      ],
      "text/plain": [
       "         Пшено  Овёс  Гречка  Рис  Булгур\n",
       "Семечки    125   345     217   65     312\n",
       "Гречка     355   267     281  109     213\n",
       "Тыква      446   447     556   78      23\n",
       "Рис        224   162     181  239     544\n",
       "Пшено      123   234     345  456     543"
      ]
     },
     "execution_count": 177,
     "metadata": {},
     "output_type": "execute_result"
    }
   ],
   "source": [
    "matrix"
   ]
  },
  {
   "cell_type": "markdown",
   "id": "b2b90e84",
   "metadata": {},
   "source": [
    "#### Рандомная генерация"
   ]
  },
  {
   "cell_type": "code",
   "execution_count": 183,
   "id": "e98d8cb9",
   "metadata": {},
   "outputs": [
    {
     "data": {
      "text/html": [
       "<div>\n",
       "<style scoped>\n",
       "    .dataframe tbody tr th:only-of-type {\n",
       "        vertical-align: middle;\n",
       "    }\n",
       "\n",
       "    .dataframe tbody tr th {\n",
       "        vertical-align: top;\n",
       "    }\n",
       "\n",
       "    .dataframe thead th {\n",
       "        text-align: right;\n",
       "    }\n",
       "</style>\n",
       "<table border=\"1\" class=\"dataframe\">\n",
       "  <thead>\n",
       "    <tr style=\"text-align: right;\">\n",
       "      <th></th>\n",
       "      <th>ПК</th>\n",
       "      <th>CPUs</th>\n",
       "      <th>Телефоны</th>\n",
       "    </tr>\n",
       "  </thead>\n",
       "  <tbody>\n",
       "    <tr>\n",
       "      <th>ПК</th>\n",
       "      <td>582</td>\n",
       "      <td>467</td>\n",
       "      <td>833</td>\n",
       "    </tr>\n",
       "    <tr>\n",
       "      <th>Ноутбуки</th>\n",
       "      <td>808</td>\n",
       "      <td>522</td>\n",
       "      <td>36</td>\n",
       "    </tr>\n",
       "    <tr>\n",
       "      <th>Keyboards</th>\n",
       "      <td>199</td>\n",
       "      <td>243</td>\n",
       "      <td>986</td>\n",
       "    </tr>\n",
       "  </tbody>\n",
       "</table>\n",
       "</div>"
      ],
      "text/plain": [
       "            ПК  CPUs  Телефоны\n",
       "ПК         582   467       833\n",
       "Ноутбуки   808   522        36\n",
       "Keyboards  199   243       986"
      ]
     },
     "execution_count": 183,
     "metadata": {},
     "output_type": "execute_result"
    }
   ],
   "source": [
    "values = ['Телефоны', 'ПК', 'Ноутбуки', 'Наушники', 'Keyboards', 'CPUs']\n",
    "si = rand.randint(1, 6)\n",
    "index = []\n",
    "cols = []\n",
    "for i in range(si):\n",
    "    ind_adding = values[rand.randint(0, len(values)-1)]\n",
    "    cols_adding = values[rand.randint(0, len(values)-1)]\n",
    "    if ind_adding in index:\n",
    "        ind_adding += str(i)\n",
    "    if cols_adding in index:\n",
    "        cols_adding += str(i)\n",
    "    index.append(ind_adding)\n",
    "    cols.append(cols_adding)\n",
    "matrix = pd.DataFrame(np.random.randint(0, 1000, (si, si)), index = index, columns=cols)\n",
    "matrix"
   ]
  },
  {
   "cell_type": "markdown",
   "id": "48bc96a3",
   "metadata": {},
   "source": [
    "#### Считывание с csv"
   ]
  },
  {
   "cell_type": "code",
   "execution_count": 188,
   "id": "aa982cf4",
   "metadata": {},
   "outputs": [
    {
     "data": {
      "text/html": [
       "<div>\n",
       "<style scoped>\n",
       "    .dataframe tbody tr th:only-of-type {\n",
       "        vertical-align: middle;\n",
       "    }\n",
       "\n",
       "    .dataframe tbody tr th {\n",
       "        vertical-align: top;\n",
       "    }\n",
       "\n",
       "    .dataframe thead th {\n",
       "        text-align: right;\n",
       "    }\n",
       "</style>\n",
       "<table border=\"1\" class=\"dataframe\">\n",
       "  <thead>\n",
       "    <tr style=\"text-align: right;\">\n",
       "      <th></th>\n",
       "      <th>Телефоны</th>\n",
       "      <th>Наушники</th>\n",
       "      <th>Ноутбуки</th>\n",
       "    </tr>\n",
       "  </thead>\n",
       "  <tbody>\n",
       "    <tr>\n",
       "      <th>Телефоны</th>\n",
       "      <td>300</td>\n",
       "      <td>280</td>\n",
       "      <td>230</td>\n",
       "    </tr>\n",
       "    <tr>\n",
       "      <th>Ноутбуки</th>\n",
       "      <td>200</td>\n",
       "      <td>180</td>\n",
       "      <td>130</td>\n",
       "    </tr>\n",
       "    <tr>\n",
       "      <th>ПК</th>\n",
       "      <td>240</td>\n",
       "      <td>380</td>\n",
       "      <td>400</td>\n",
       "    </tr>\n",
       "  </tbody>\n",
       "</table>\n",
       "</div>"
      ],
      "text/plain": [
       "          Телефоны  Наушники  Ноутбуки\n",
       "Телефоны       300       280       230\n",
       "Ноутбуки       200       180       130\n",
       "ПК             240       380       400"
      ]
     },
     "execution_count": 188,
     "metadata": {},
     "output_type": "execute_result"
    }
   ],
   "source": [
    "matrix = pd.read_csv('data8_1.csv', delimiter=';', encoding='utf-8', index_col=0)\n",
    "matrix"
   ]
  },
  {
   "cell_type": "code",
   "execution_count": 189,
   "id": "44d3b5c5",
   "metadata": {},
   "outputs": [
    {
     "name": "stdout",
     "output_type": "stream",
     "text": [
      "Цена игры для игрока А при выборе чистой оптимальной стратегии:  240\n",
      "Оптимальная чистая стратегия для игрока А:  ПК\n"
     ]
    }
   ],
   "source": [
    "np_matrix = matrix.values\n",
    "lowest_game_price = np.max(np.min(np_matrix, axis=1))\n",
    "print(\"Цена игры для игрока А при выборе чистой оптимальной стратегии: \", lowest_game_price)\n",
    "lowest_game_price_tag = np.argmax(np.min(np_matrix, axis=1))\n",
    "print(\"Оптимальная чистая стратегия для игрока А: \", matrix.index[lowest_game_price_tag])"
   ]
  },
  {
   "cell_type": "code",
   "execution_count": 190,
   "id": "36c9e3d5",
   "metadata": {},
   "outputs": [
    {
     "name": "stdout",
     "output_type": "stream",
     "text": [
      "Цена игры для игрока B при выборе чистой оптимальной стратегии: 300\n",
      "Оптимальная чистая стратегия для игрока А: Телефоны\n"
     ]
    }
   ],
   "source": [
    "highest_game_price = np.min(np.max(np_matrix, axis=0))\n",
    "highest_game_price_tag = np.argmin(np.max(np_matrix, axis=0))\n",
    "print(\"Цена игры для игрока B при выборе чистой оптимальной стратегии:\", highest_game_price)\n",
    "print(\"Оптимальная чистая стратегия для игрока А:\", matrix.index[highest_game_price_tag])"
   ]
  },
  {
   "cell_type": "code",
   "execution_count": 191,
   "id": "55191ce0",
   "metadata": {},
   "outputs": [
    {
     "name": "stdout",
     "output_type": "stream",
     "text": [
      "x1: 0.0024691358\n",
      "x2: 0.0\n",
      "x3: 0.0010802469\n",
      "Целевая функция: 0.0035493827\n"
     ]
    }
   ],
   "source": [
    "problem = LpProblem('Task8_1', LpMinimize)\n",
    "x1 = LpVariable('x1', lowBound=0)\n",
    "x2 = LpVariable('x2', lowBound=0)\n",
    "x3 = LpVariable('x3', lowBound=0)\n",
    "\n",
    "#Целевая функция и ограничения\n",
    "problem += x1 + x2 + x3\n",
    "problem += np_matrix[0][0]*x1 + np_matrix[1][0]*x2 + np_matrix[2][0]*x3 >= 1\n",
    "problem += np_matrix[0][1]*x1 + np_matrix[1][1]*x2 + np_matrix[2][1]*x3 >= 1\n",
    "problem += np_matrix[0][2]*x1 + np_matrix[1][2]*x2 + np_matrix[2][2]*x3 >= 1\n",
    "\n",
    "problem.solve()\n",
    "print(\"x1:\", x1.varValue)\n",
    "print(\"x2:\", x2.varValue)\n",
    "print(\"x3:\", x3.varValue)\n",
    "print(\"Целевая функция:\", value(problem.objective))"
   ]
  },
  {
   "cell_type": "code",
   "execution_count": 192,
   "id": "821d50ea",
   "metadata": {},
   "outputs": [
    {
     "name": "stdout",
     "output_type": "stream",
     "text": [
      "Цена игры:  281.74\n"
     ]
    },
    {
     "data": {
      "text/html": [
       "<div>\n",
       "<style scoped>\n",
       "    .dataframe tbody tr th:only-of-type {\n",
       "        vertical-align: middle;\n",
       "    }\n",
       "\n",
       "    .dataframe tbody tr th {\n",
       "        vertical-align: top;\n",
       "    }\n",
       "\n",
       "    .dataframe thead th {\n",
       "        text-align: right;\n",
       "    }\n",
       "</style>\n",
       "<table border=\"1\" class=\"dataframe\">\n",
       "  <thead>\n",
       "    <tr style=\"text-align: right;\">\n",
       "      <th></th>\n",
       "      <th>Проценты</th>\n",
       "    </tr>\n",
       "  </thead>\n",
       "  <tbody>\n",
       "    <tr>\n",
       "      <th>Стратегия P1</th>\n",
       "      <td>70</td>\n",
       "    </tr>\n",
       "    <tr>\n",
       "      <th>Стратегия P2</th>\n",
       "      <td>0</td>\n",
       "    </tr>\n",
       "    <tr>\n",
       "      <th>Стратегия P3</th>\n",
       "      <td>30</td>\n",
       "    </tr>\n",
       "  </tbody>\n",
       "</table>\n",
       "</div>"
      ],
      "text/plain": [
       "              Проценты\n",
       "Стратегия P1        70\n",
       "Стратегия P2         0\n",
       "Стратегия P3        30"
      ]
     },
     "execution_count": 192,
     "metadata": {},
     "output_type": "execute_result"
    }
   ],
   "source": [
    "print(\"Цена игры: \", round(1/value(problem.objective),2))\n",
    "columns1 = [\"Стратегия P1\", \"Стратегия P2\", \"Стратегия P3\"]\n",
    "vals = [round((1/value(problem.objective)) * x1.varValue *100), \n",
    "        round((1/value(problem.objective)) * x2.varValue *100), \n",
    "        round((1/value(problem.objective)) * x3.varValue *100)]\n",
    "res = pd.DataFrame(np.array(vals), index = columns1, columns = [\"Проценты\"])\n",
    "res"
   ]
  },
  {
   "cell_type": "markdown",
   "id": "73d7cfb8",
   "metadata": {},
   "source": [
    "#### Итоги"
   ]
  },
  {
   "cell_type": "code",
   "execution_count": 193,
   "id": "69509572",
   "metadata": {},
   "outputs": [
    {
     "name": "stdout",
     "output_type": "stream",
     "text": [
      "Цена игры для игрока А при выборе чистой оптимальной стратегии:  240\n",
      "Оптимальная чистая стратегия для игрока А:  ПК\n",
      "\n",
      "Цена игры для игрока B при выборе чистой оптимальной стратегии: 300\n",
      "Оптимальная чистая стратегия для игрока А: Телефоны\n",
      "\n",
      "Таблица смешанных стратегий для игрока А:\n",
      "              Проценты\n",
      "Стратегия P1        70\n",
      "Стратегия P2         0\n",
      "Стратегия P3        30\n",
      "\n",
      "Цена игры:  282\n"
     ]
    }
   ],
   "source": [
    "print(\"Цена игры для игрока А при выборе чистой оптимальной стратегии: \", lowest_game_price)\n",
    "print(\"Оптимальная чистая стратегия для игрока А: \", matrix.index[lowest_game_price_tag])\n",
    "print(\"\\nЦена игры для игрока B при выборе чистой оптимальной стратегии:\", highest_game_price)\n",
    "print(\"Оптимальная чистая стратегия для игрока А:\", matrix.index[highest_game_price_tag])\n",
    "print(\"\\nТаблица смешанных стратегий для игрока А:\")\n",
    "print(res)\n",
    "print(\"\\nЦена игры: \", round(1/value(problem.objective)))"
   ]
  },
  {
   "cell_type": "markdown",
   "id": "b81bd78d",
   "metadata": {},
   "source": [
    "### Задача 2"
   ]
  },
  {
   "cell_type": "code",
   "execution_count": 194,
   "id": "b033b595",
   "metadata": {},
   "outputs": [
    {
     "data": {
      "text/html": [
       "<div>\n",
       "<style scoped>\n",
       "    .dataframe tbody tr th:only-of-type {\n",
       "        vertical-align: middle;\n",
       "    }\n",
       "\n",
       "    .dataframe tbody tr th {\n",
       "        vertical-align: top;\n",
       "    }\n",
       "\n",
       "    .dataframe thead th {\n",
       "        text-align: right;\n",
       "    }\n",
       "</style>\n",
       "<table border=\"1\" class=\"dataframe\">\n",
       "  <thead>\n",
       "    <tr style=\"text-align: right;\">\n",
       "      <th></th>\n",
       "      <th>Телефоны</th>\n",
       "      <th>Ноутбуки</th>\n",
       "      <th>ПК</th>\n",
       "    </tr>\n",
       "  </thead>\n",
       "  <tbody>\n",
       "    <tr>\n",
       "      <th>Телефоны</th>\n",
       "      <td>300.0</td>\n",
       "      <td>280.0</td>\n",
       "      <td>230.0</td>\n",
       "    </tr>\n",
       "    <tr>\n",
       "      <th>Ноутбуки</th>\n",
       "      <td>200.0</td>\n",
       "      <td>180.0</td>\n",
       "      <td>130.0</td>\n",
       "    </tr>\n",
       "    <tr>\n",
       "      <th>ПК</th>\n",
       "      <td>240.0</td>\n",
       "      <td>380.0</td>\n",
       "      <td>400.0</td>\n",
       "    </tr>\n",
       "  </tbody>\n",
       "</table>\n",
       "</div>"
      ],
      "text/plain": [
       "          Телефоны  Ноутбуки     ПК\n",
       "Телефоны     300.0     280.0  230.0\n",
       "Ноутбуки     200.0     180.0  130.0\n",
       "ПК           240.0     380.0  400.0"
      ]
     },
     "execution_count": 194,
     "metadata": {},
     "output_type": "execute_result"
    }
   ],
   "source": [
    "matrix2_a = pd.read_csv('data8_2_a.csv', delimiter=';', encoding='utf-8', index_col=0)\n",
    "matrix2_a = matrix2_a.dropna(axis=0,how='all')\n",
    "matrix2_a = matrix2_a.dropna(axis=1,how='all')\n",
    "matrix2_a"
   ]
  },
  {
   "cell_type": "code",
   "execution_count": 195,
   "id": "03943930",
   "metadata": {},
   "outputs": [
    {
     "data": {
      "text/html": [
       "<div>\n",
       "<style scoped>\n",
       "    .dataframe tbody tr th:only-of-type {\n",
       "        vertical-align: middle;\n",
       "    }\n",
       "\n",
       "    .dataframe tbody tr th {\n",
       "        vertical-align: top;\n",
       "    }\n",
       "\n",
       "    .dataframe thead th {\n",
       "        text-align: right;\n",
       "    }\n",
       "</style>\n",
       "<table border=\"1\" class=\"dataframe\">\n",
       "  <thead>\n",
       "    <tr style=\"text-align: right;\">\n",
       "      <th></th>\n",
       "      <th>Телефоны</th>\n",
       "      <th>Наушники</th>\n",
       "      <th>Ноутбуки</th>\n",
       "    </tr>\n",
       "  </thead>\n",
       "  <tbody>\n",
       "    <tr>\n",
       "      <th>Телефоны</th>\n",
       "      <td>180.0</td>\n",
       "      <td>110.0</td>\n",
       "      <td>240.0</td>\n",
       "    </tr>\n",
       "    <tr>\n",
       "      <th>Наушники</th>\n",
       "      <td>120.0</td>\n",
       "      <td>160.0</td>\n",
       "      <td>210.0</td>\n",
       "    </tr>\n",
       "    <tr>\n",
       "      <th>Ноутбуки</th>\n",
       "      <td>300.0</td>\n",
       "      <td>140.0</td>\n",
       "      <td>250.0</td>\n",
       "    </tr>\n",
       "  </tbody>\n",
       "</table>\n",
       "</div>"
      ],
      "text/plain": [
       "          Телефоны  Наушники  Ноутбуки\n",
       "Телефоны     180.0     110.0     240.0\n",
       "Наушники     120.0     160.0     210.0\n",
       "Ноутбуки     300.0     140.0     250.0"
      ]
     },
     "execution_count": 195,
     "metadata": {},
     "output_type": "execute_result"
    }
   ],
   "source": [
    "matrix2_b = pd.read_csv('data8_2_b.csv', delimiter=';', encoding='utf-8', index_col=0)\n",
    "matrix2_b = matrix2_b.dropna(axis=0,how='all')\n",
    "matrix2_b = matrix2_b.dropna(axis=1,how='all')\n",
    "matrix2_b"
   ]
  },
  {
   "cell_type": "code",
   "execution_count": 196,
   "id": "fdac73fd",
   "metadata": {},
   "outputs": [
    {
     "name": "stdout",
     "output_type": "stream",
     "text": [
      "Цена игры для игрока А при выборе чистой оптимальной стратегии : 300.0\n",
      "Оптимальная чистая стратегия для игрока А: Телефоны\n",
      "\n",
      "Цена игры для игрока А при выборе чистой оптимальной стратегии : 210.0\n",
      "Оптимальная чистая стратегия для игрока А: Наушники\n",
      "\n",
      "Общая суммарная цена игры: 510.0\n"
     ]
    }
   ],
   "source": [
    "np_matrix2_a = matrix2_a.values\n",
    "np_matrix2_b = matrix2_b.values\n",
    "game_price_a = np.min(np.max(matrix2_a, axis=0))\n",
    "game_price_a_tag = np.argmin(np.max(matrix2_a, axis=0))\n",
    "print('Цена игры для игрока А при выборе чистой оптимальной стратегии :', game_price_a)\n",
    "print('Оптимальная чистая стратегия для игрока А:', matrix2_a.index[game_price_a_tag])\n",
    "game_price_b = np.min(np.max(matrix2_b, axis=1))\n",
    "game_price_b_tag = np.argmin(np.max(matrix2_b, axis=1))\n",
    "print('\\nЦена игры для игрока B при выборе чистой оптимальной стратегии :', game_price_b)\n",
    "print('Оптимальная чистая стратегия для игрока B:', matrix2_b.index[game_price_b_tag])\n",
    "print('\\nОбщая суммарная цена игры:', np.sum([game_price_b, game_price_a]))"
   ]
  },
  {
   "cell_type": "code",
   "execution_count": 197,
   "id": "a12ac35f",
   "metadata": {},
   "outputs": [
    {
     "name": "stdout",
     "output_type": "stream",
     "text": [
      "Количество равновесий по Нэшу: 0\n"
     ]
    },
    {
     "name": "stderr",
     "output_type": "stream",
     "text": [
      "C:\\Anaconda3\\lib\\site-packages\\nashpy\\algorithms\\support_enumeration.py:196: RuntimeWarning: \n",
      "An even number of (0) equilibria was returned. This\n",
      "indicates that the game is degenerate. Consider using another algorithm\n",
      "to investigate.\n",
      "                  \n",
      "  warnings.warn(warning, RuntimeWarning)\n"
     ]
    }
   ],
   "source": [
    "balance_count = nashpy.Game(np_matrix2_a, np_matrix2_b)\n",
    "balance = len(list(balance_count.support_enumeration()))\n",
    "print('Количество равновесий по Нэшу:', balance)"
   ]
  },
  {
   "cell_type": "code",
   "execution_count": 198,
   "id": "c74a1764",
   "metadata": {},
   "outputs": [
    {
     "name": "stdout",
     "output_type": "stream",
     "text": [
      "Таблица смешанных стратегий для компании А:\n",
      " [0. 0. 1.]\n"
     ]
    }
   ],
   "source": [
    "problem2 = LpProblem(\"Task8_2\", LpMinimize)\n",
    "\n",
    "function_vars = [LpVariable('w1', lowBound=0), \n",
    "                 LpVariable('w2', lowBound=0), \n",
    "                 LpVariable('w3', lowBound=0)]\n",
    "F = (np.array(function_vars)).sum()\n",
    "problem2 += F\n",
    "\n",
    "lims = np.vectorize(lambda x1, x2: x1 >= x2)((matrix2_b * function_vars).sum(axis=1), 1)\n",
    "for c in lims:\n",
    "    problem2 += c\n",
    "problem2.solve()\n",
    "\n",
    "a_strat = np.array(list(map(lambda x: x.value(), problem2.variables())))\n",
    "a_strat = a_strat/a_strat.sum()\n",
    "print ('Таблица смешанных стратегий для компании А:\\n', a_strat)"
   ]
  },
  {
   "cell_type": "code",
   "execution_count": 199,
   "id": "674e60df",
   "metadata": {},
   "outputs": [
    {
     "name": "stdout",
     "output_type": "stream",
     "text": [
      "Таблица смешанных стратегий для компании Б:\n",
      " [0.73913043 0.         0.26086957]\n"
     ]
    }
   ],
   "source": [
    "problem2 = LpProblem(\"Task8_2\", LpMaximize)\n",
    "\n",
    "function_vars = [LpVariable('w1', lowBound=0), \n",
    "                 LpVariable('w2', lowBound=0), \n",
    "                 LpVariable('w3', lowBound=0)]\n",
    "F = (np.array(function_vars)).sum()\n",
    "problem2 += F\n",
    "\n",
    "lims = np.vectorize(lambda x1, x2: x1 <= x2)((matrix2_a * function_vars).sum(axis=1), 1)\n",
    "for c in lims:\n",
    "    problem2 += c\n",
    "problem2.solve()\n",
    "\n",
    "b_strat = np.array(list(map(lambda x: x.value(), problem2.variables())))\n",
    "b_strat = b_strat/b_strat.sum()\n",
    "print ('Таблица смешанных стратегий для компании Б:\\n', b_strat)"
   ]
  },
  {
   "cell_type": "code",
   "execution_count": 200,
   "id": "f633eebc",
   "metadata": {},
   "outputs": [
    {
     "name": "stdout",
     "output_type": "stream",
     "text": [
      "Цена игры для игрока А при выборе смешанной оптимальной стратегии:  281.73913045438184\n",
      "Цена игры для игрока Б при выборе смешанной оптимальной стратегии:  286.9565217330057\n",
      "Общая цена игры в случае использования оптимальных стратегий:  568.6956521873875\n"
     ]
    }
   ],
   "source": [
    "a_game_price = ((a_strat * np_matrix2_a.T).T*b_strat).sum()\n",
    "b_game_price = ((a_strat * np_matrix2_b.T).T*b_strat).sum()\n",
    "print('Цена игры для игрока А при выборе смешанной оптимальной стратегии: ', a_game_price)\n",
    "print('Цена игры для игрока Б при выборе смешанной оптимальной стратегии: ', b_game_price)\n",
    "print('Общая цена игры в случае использования оптимальных стратегий: ', a_game_price + b_game_price)"
   ]
  },
  {
   "cell_type": "markdown",
   "id": "a74818c3",
   "metadata": {},
   "source": [
    "#### Итоги"
   ]
  },
  {
   "cell_type": "code",
   "execution_count": 201,
   "id": "b4b31038",
   "metadata": {},
   "outputs": [
    {
     "name": "stdout",
     "output_type": "stream",
     "text": [
      "Цена игры для игрока А при выборе чистой оптимальной стратегии : 300.0\n",
      "Оптимальная чистая стратегия для игрока А: Телефоны\n",
      "\n",
      "Цена игры для игрока А при выборе чистой оптимальной стратегии : 210.0\n",
      "Оптимальная чистая стратегия для игрока А: Наушники\n",
      "\n",
      "Общая суммарная цена игры: 510.0\n",
      "\n",
      "Количество равновесий по Нэшу: 0\n",
      "\n",
      "Таблица смешанных стратегий для компании А:\n",
      " [0. 0. 1.]\n",
      "Цена игры для игрока А при выборе смешанной оптимальной стратегии:  281.73913045438184\n",
      "\n",
      "Таблица смешанных стратегий для компании Б:\n",
      " [0.73913043 0.         0.26086957]\n",
      "Цена игры для игрока Б при выборе смешанной оптимальной стратегии:  286.9565217330057\n",
      "\n",
      "Общая цена игры в случае использования оптимальных стратегий:  568.6956521873875\n"
     ]
    }
   ],
   "source": [
    "print('Цена игры для игрока А при выборе чистой оптимальной стратегии :', game_price_a)\n",
    "print('Оптимальная чистая стратегия для игрока А:', matrix2_a.index[game_price_a_tag])\n",
    "print('\\nЦена игры для игрока B при выборе чистой оптимальной стратегии :', game_price_b)\n",
    "print('Оптимальная чистая стратегия для игрока B:', matrix2_b.index[game_price_b_tag])\n",
    "print('\\nОбщая суммарная цена игры:', np.sum([game_price_b, game_price_a]))\n",
    "print('\\nКоличество равновесий по Нэшу:', balance)\n",
    "print('\\nТаблица смешанных стратегий для компании А:\\n', a_strat)\n",
    "print('Цена игры для игрока А при выборе смешанной оптимальной стратегии: ', a_game_price)\n",
    "print('\\nТаблица смешанных стратегий для компании Б:\\n', b_strat)\n",
    "print('Цена игры для игрока Б при выборе смешанной оптимальной стратегии: ', b_game_price)\n",
    "print('\\nОбщая цена игры в случае использования оптимальных стратегий: ', a_game_price + b_game_price)"
   ]
  },
  {
   "cell_type": "markdown",
   "id": "2916be29",
   "metadata": {},
   "source": [
    "### Задача 3"
   ]
  },
  {
   "cell_type": "code",
   "execution_count": 202,
   "id": "4f1d4210",
   "metadata": {},
   "outputs": [
    {
     "data": {
      "text/html": [
       "<div>\n",
       "<style scoped>\n",
       "    .dataframe tbody tr th:only-of-type {\n",
       "        vertical-align: middle;\n",
       "    }\n",
       "\n",
       "    .dataframe tbody tr th {\n",
       "        vertical-align: top;\n",
       "    }\n",
       "\n",
       "    .dataframe thead th {\n",
       "        text-align: right;\n",
       "    }\n",
       "</style>\n",
       "<table border=\"1\" class=\"dataframe\">\n",
       "  <thead>\n",
       "    <tr style=\"text-align: right;\">\n",
       "      <th></th>\n",
       "      <th>Рецессия</th>\n",
       "      <th>Стагнация</th>\n",
       "      <th>Оживление</th>\n",
       "      <th>Подъем</th>\n",
       "    </tr>\n",
       "  </thead>\n",
       "  <tbody>\n",
       "    <tr>\n",
       "      <th>Продукты</th>\n",
       "      <td>50,00</td>\n",
       "      <td>30,00</td>\n",
       "      <td>35,00</td>\n",
       "      <td>45,00</td>\n",
       "    </tr>\n",
       "    <tr>\n",
       "      <th>Косметика</th>\n",
       "      <td>40,00</td>\n",
       "      <td>40,00</td>\n",
       "      <td>55,00</td>\n",
       "      <td>40,00</td>\n",
       "    </tr>\n",
       "    <tr>\n",
       "      <th>Одежда</th>\n",
       "      <td>35,00</td>\n",
       "      <td>40,00</td>\n",
       "      <td>45,00</td>\n",
       "      <td>55,00</td>\n",
       "    </tr>\n",
       "    <tr>\n",
       "      <th>бытовая химия</th>\n",
       "      <td>10,00</td>\n",
       "      <td>20,00</td>\n",
       "      <td>25,00</td>\n",
       "      <td>35,00</td>\n",
       "    </tr>\n",
       "    <tr>\n",
       "      <th>Вероятности</th>\n",
       "      <td>0,15</td>\n",
       "      <td>0,25</td>\n",
       "      <td>0,50</td>\n",
       "      <td>0,10</td>\n",
       "    </tr>\n",
       "  </tbody>\n",
       "</table>\n",
       "</div>"
      ],
      "text/plain": [
       "              Рецессия Стагнация Оживление Подъем\n",
       "Продукты         50,00     30,00     35,00  45,00\n",
       "Косметика        40,00     40,00     55,00  40,00\n",
       "Одежда           35,00     40,00     45,00  55,00\n",
       "бытовая химия    10,00     20,00     25,00  35,00\n",
       "Вероятности       0,15      0,25      0,50   0,10"
      ]
     },
     "execution_count": 202,
     "metadata": {},
     "output_type": "execute_result"
    }
   ],
   "source": [
    "matrix3 = pd.read_csv('data8_3.csv', delimiter=';', encoding='utf-8', index_col=0)\n",
    "matrix3 = matrix3.dropna(axis=0,how='all')\n",
    "matrix3 = matrix3.dropna(axis=1,how='all')\n",
    "matrix3"
   ]
  },
  {
   "cell_type": "code",
   "execution_count": 203,
   "id": "afa90880",
   "metadata": {},
   "outputs": [
    {
     "data": {
      "text/plain": [
       "array(['0,15', '0,25', '0,50', '0,10'], dtype=object)"
      ]
     },
     "execution_count": 203,
     "metadata": {},
     "output_type": "execute_result"
    }
   ],
   "source": [
    "np_chance_rate = matrix3.iloc[-1].values\n",
    "np_chance_rate"
   ]
  },
  {
   "cell_type": "code",
   "execution_count": 204,
   "id": "e739ba61",
   "metadata": {},
   "outputs": [
    {
     "data": {
      "text/plain": [
       "array([['50,00', '30,00', '35,00', '45,00'],\n",
       "       ['40,00', '40,00', '55,00', '40,00'],\n",
       "       ['35,00', '40,00', '45,00', '55,00'],\n",
       "       ['10,00', '20,00', '25,00', '35,00']], dtype=object)"
      ]
     },
     "execution_count": 204,
     "metadata": {},
     "output_type": "execute_result"
    }
   ],
   "source": [
    "np_matrix3 = matrix3.iloc[:-1].values\n",
    "np_matrix3"
   ]
  }
 ],
 "metadata": {
  "kernelspec": {
   "display_name": "Python 3 (ipykernel)",
   "language": "python",
   "name": "python3"
  },
  "language_info": {
   "codemirror_mode": {
    "name": "ipython",
    "version": 3
   },
   "file_extension": ".py",
   "mimetype": "text/x-python",
   "name": "python",
   "nbconvert_exporter": "python",
   "pygments_lexer": "ipython3",
   "version": "3.7.3"
  }
 },
 "nbformat": 4,
 "nbformat_minor": 5
}

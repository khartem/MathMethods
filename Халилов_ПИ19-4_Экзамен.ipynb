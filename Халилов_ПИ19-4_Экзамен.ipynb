{
 "cells": [
  {
   "cell_type": "code",
   "execution_count": 1,
   "id": "911b3da1",
   "metadata": {},
   "outputs": [],
   "source": [
    "import numpy as np\n",
    "import pandas as pd\n",
    "from scipy.optimize import Bounds, linprog\n",
    "np.set_printoptions(suppress=True)"
   ]
  },
  {
   "cell_type": "markdown",
   "id": "0e49501f",
   "metadata": {},
   "source": [
    "### Задача 1"
   ]
  },
  {
   "cell_type": "code",
   "execution_count": 20,
   "id": "1c0d79ad",
   "metadata": {},
   "outputs": [
    {
     "name": "stdout",
     "output_type": "stream",
     "text": [
      "Введите 1 строку матрицы C:\n",
      "12 5 11 6 0\n",
      "Введите 2 строку матрицы C:\n",
      "11 15 21 10 0\n",
      "Введите 3 строку матрицы C:\n",
      "13 15 15 11 0\n",
      "\n",
      "Матрица C:\n",
      "[[12  5 11  6  0]\n",
      " [11 15 21 10  0]\n",
      " [13 15 15 11  0]]\n"
     ]
    }
   ],
   "source": [
    "C = np.array([list(map(int, input(f'Введите {i+1} строку матрицы C:\\n').split())) for i in range(3)])\n",
    "print('\\nМатрица C:')\n",
    "print(C)"
   ]
  },
  {
   "cell_type": "code",
   "execution_count": 3,
   "id": "a37cd0e9",
   "metadata": {},
   "outputs": [
    {
     "name": "stdout",
     "output_type": "stream",
     "text": [
      "Введите через пробел числа a1, a2, a3:\n",
      "100 110 40\n"
     ]
    }
   ],
   "source": [
    "a1, a2, a3 = map(int, input('Введите через пробел числа a1, a2, a3:\\n').split())"
   ]
  },
  {
   "cell_type": "code",
   "execution_count": 4,
   "id": "16a4ef02",
   "metadata": {},
   "outputs": [],
   "source": [
    "A = np.array([a1, a2, a3])"
   ]
  },
  {
   "cell_type": "code",
   "execution_count": 21,
   "id": "8e1bb049",
   "metadata": {},
   "outputs": [
    {
     "name": "stdout",
     "output_type": "stream",
     "text": [
      "Введите через пробел числа b1, b2, b3, b4, b5:\n",
      "100 50 20 30 50\n"
     ]
    }
   ],
   "source": [
    "b1, b2, b3, b4, b5 = map(int, input('Введите через пробел числа b1, b2, b3, b4, b5:\\n').split())"
   ]
  },
  {
   "cell_type": "code",
   "execution_count": 22,
   "id": "93ebf57f",
   "metadata": {},
   "outputs": [],
   "source": [
    "B = np.array([b1, b2, b3, b4, b5])"
   ]
  },
  {
   "cell_type": "code",
   "execution_count": 23,
   "id": "8117336a",
   "metadata": {},
   "outputs": [],
   "source": [
    "N = len(A)\n",
    "M = len(B)"
   ]
  },
  {
   "cell_type": "code",
   "execution_count": 24,
   "id": "8c1ce0c0",
   "metadata": {},
   "outputs": [
    {
     "data": {
      "text/html": [
       "<div>\n",
       "<style scoped>\n",
       "    .dataframe tbody tr th:only-of-type {\n",
       "        vertical-align: middle;\n",
       "    }\n",
       "\n",
       "    .dataframe tbody tr th {\n",
       "        vertical-align: top;\n",
       "    }\n",
       "\n",
       "    .dataframe thead th {\n",
       "        text-align: right;\n",
       "    }\n",
       "</style>\n",
       "<table border=\"1\" class=\"dataframe\">\n",
       "  <thead>\n",
       "    <tr style=\"text-align: right;\">\n",
       "      <th>aᵢ \\ bⱼ</th>\n",
       "      <th>100</th>\n",
       "      <th>50</th>\n",
       "      <th>20</th>\n",
       "      <th>30</th>\n",
       "      <th>50</th>\n",
       "    </tr>\n",
       "  </thead>\n",
       "  <tbody>\n",
       "    <tr>\n",
       "      <th>100</th>\n",
       "      <td>12</td>\n",
       "      <td>5</td>\n",
       "      <td>11</td>\n",
       "      <td>6</td>\n",
       "      <td>0</td>\n",
       "    </tr>\n",
       "    <tr>\n",
       "      <th>110</th>\n",
       "      <td>11</td>\n",
       "      <td>15</td>\n",
       "      <td>21</td>\n",
       "      <td>10</td>\n",
       "      <td>0</td>\n",
       "    </tr>\n",
       "    <tr>\n",
       "      <th>40</th>\n",
       "      <td>13</td>\n",
       "      <td>15</td>\n",
       "      <td>15</td>\n",
       "      <td>11</td>\n",
       "      <td>0</td>\n",
       "    </tr>\n",
       "  </tbody>\n",
       "</table>\n",
       "</div>"
      ],
      "text/plain": [
       "aᵢ \\ bⱼ  100  50   20   30   50 \n",
       "100       12    5   11    6    0\n",
       "110       11   15   21   10    0\n",
       "40        13   15   15   11    0"
      ]
     },
     "execution_count": 24,
     "metadata": {},
     "output_type": "execute_result"
    }
   ],
   "source": [
    "df = pd.DataFrame(C, columns=B, index=A)\n",
    "df.columns.name = 'aᵢ \\\\ bⱼ'\n",
    "df"
   ]
  },
  {
   "cell_type": "code",
   "execution_count": 25,
   "id": "7b419726",
   "metadata": {},
   "outputs": [
    {
     "name": "stdout",
     "output_type": "stream",
     "text": [
      "Задача закрытого типа\n"
     ]
    }
   ],
   "source": [
    "if sum(A) == sum(B):\n",
    "    print('Задача закрытого типа')\n",
    "else:\n",
    "    print('Задача открытого типа')"
   ]
  },
  {
   "cell_type": "code",
   "execution_count": 26,
   "id": "4cab204a",
   "metadata": {},
   "outputs": [],
   "source": [
    "P = np.zeros_like(C)\n",
    "INF = 1000000\n",
    "C_copy = C.copy()\n",
    "A_copy = A.copy()\n",
    "B_copy = B.copy()\n",
    "i = 0\n",
    "j = 0"
   ]
  },
  {
   "cell_type": "code",
   "execution_count": 27,
   "id": "38a30984",
   "metadata": {},
   "outputs": [],
   "source": [
    "while not np.all(C_copy == INF):\n",
    "    i, j = np.unravel_index(C_copy.argmin(), C_copy.shape)\n",
    "    P[i][j] = min(A_copy[i], B_copy[j])\n",
    "    if A_copy[i] <= B_copy[j]:\n",
    "        C_copy[i].fill(INF)\n",
    "        B_copy[j] -= A_copy[i]\n",
    "        A_copy[i] = 0\n",
    "    else:\n",
    "        C_copy[:, j].fill(INF)\n",
    "        A_copy[i] -= B[j]\n",
    "        B_copy[j] = 0  "
   ]
  },
  {
   "cell_type": "code",
   "execution_count": 28,
   "id": "e3551dcb",
   "metadata": {},
   "outputs": [
    {
     "name": "stdout",
     "output_type": "stream",
     "text": [
      "Опорный план является вырожденным\n"
     ]
    }
   ],
   "source": [
    "if np.count_nonzero(P) == N + M - 1:\n",
    "    print('Опорный план является невырожденным')\n",
    "else:\n",
    "    print('Опорный план является вырожденным')"
   ]
  },
  {
   "cell_type": "code",
   "execution_count": 29,
   "id": "7bc2819e",
   "metadata": {},
   "outputs": [
    {
     "name": "stdout",
     "output_type": "stream",
     "text": [
      "Полученный план перевозки груза:\n",
      " [[  0  50   0   0  50]\n",
      " [ 80   0   0  30   0]\n",
      " [ 20 -60   0   0   0]]\n",
      "Значение целевой функции для этого опорного плана 790\n"
     ]
    }
   ],
   "source": [
    "F = 0\n",
    "for i in range(N):\n",
    "    for j in range(M):\n",
    "        F += C[i][j] * P[i][j]\n",
    "print('Полученный план перевозки груза:\\n', P)\n",
    "print('Значение целевой функции для этого опорного плана', F)"
   ]
  },
  {
   "cell_type": "code",
   "execution_count": 30,
   "id": "7ef000ee",
   "metadata": {},
   "outputs": [],
   "source": [
    "A_u = np.array([[1 if i in range(j*M, M*(j+1)) else 0 for i in range(N*M)] for j in range(N)])\n",
    "b_u = A"
   ]
  },
  {
   "cell_type": "code",
   "execution_count": 31,
   "id": "885ced58",
   "metadata": {},
   "outputs": [],
   "source": [
    "b_eq = B\n",
    "A_eq = np.array([[1 if i % M == j else 0 for i in range(N*M)] for j in range(M)])"
   ]
  },
  {
   "cell_type": "code",
   "execution_count": 32,
   "id": "22cf2db0",
   "metadata": {},
   "outputs": [
    {
     "name": "stdout",
     "output_type": "stream",
     "text": [
      "Primal Feasibility  Dual Feasibility    Duality Gap         Step             Path Parameter      Objective          \n",
      "1.0                 1.0                 1.0                 -                1.0                 145.0               \n",
      "0.2280252163036     0.2280252163036     0.2280252163036     0.7849358282868  0.2280252163036     432.0744250764      \n",
      "0.060738626895      0.06073862689497    0.06073862689497    0.7628818329975  0.06073862689524    963.2957724274      \n",
      "0.008643753546843   0.008643753546842   0.008643753546842   0.8848564877981  0.008643753546762   1536.240395159      \n",
      "0.0001187365411612  0.0001187365411612  0.0001187365411615  0.9864488229169  0.0001187365411587  1746.674462369      \n",
      "6.040937716218e-09  6.040937782867e-09  6.040937686153e-09  0.999949132579   6.040941602264e-09  1749.999830375      \n",
      "Optimization terminated successfully.\n",
      "         Current function value: 1749.999830 \n",
      "         Iterations: 5\n"
     ]
    },
    {
     "data": {
      "text/plain": [
       "     con: array([0.00001077, 0.00000522, 0.00000189, 0.000003  , 0.00000522])\n",
       "     fun: 1749.9998303745895\n",
       " message: 'Optimization terminated successfully.'\n",
       "     nit: 5\n",
       "   slack: array([0.00001056, 0.00001165, 0.0000039 ])\n",
       "  status: 0\n",
       " success: True\n",
       "       x: array([ 0.00000047, 49.99999426, 19.99999752, 29.99999596,  0.00000123,\n",
       "       99.99998865,  0.00000038,  0.00000022,  0.00000103,  9.99999808,\n",
       "        0.00000011,  0.00000014,  0.00000037,  0.00000001, 39.99999547])"
      ]
     },
     "execution_count": 32,
     "metadata": {},
     "output_type": "execute_result"
    }
   ],
   "source": [
    "res = linprog(C.flatten(), A_u, b_u, A_eq, b_eq, options={'disp': True})\n",
    "\n",
    "X = res.x.round(3).reshape(N, M)\n",
    "F_min = res.fun.round(3)\n",
    "\n",
    "res"
   ]
  },
  {
   "cell_type": "code",
   "execution_count": 33,
   "id": "bd3372f9",
   "metadata": {},
   "outputs": [
    {
     "name": "stdout",
     "output_type": "stream",
     "text": [
      "Оптимальный план перевозки груза X*:\n",
      " [[  0.  50.  20.  30.   0.]\n",
      " [100.   0.   0.   0.  10.]\n",
      " [  0.   0.   0.   0.  40.]]\n",
      "Оптимальная стоимость перевозки:\n",
      "F_min = F(X*) = 1750.0\n"
     ]
    }
   ],
   "source": [
    "print('Оптимальный план перевозки груза X*:\\n', X)\n",
    "print('Оптимальная стоимость перевозки:\\nF_min = F(X*) =', F_min)"
   ]
  },
  {
   "cell_type": "markdown",
   "id": "26882ad2",
   "metadata": {},
   "source": [
    "### Задача 2"
   ]
  },
  {
   "cell_type": "code",
   "execution_count": 38,
   "id": "c0107fdd",
   "metadata": {},
   "outputs": [
    {
     "data": {
      "text/html": [
       "<div>\n",
       "<style scoped>\n",
       "    .dataframe tbody tr th:only-of-type {\n",
       "        vertical-align: middle;\n",
       "    }\n",
       "\n",
       "    .dataframe tbody tr th {\n",
       "        vertical-align: top;\n",
       "    }\n",
       "\n",
       "    .dataframe thead th {\n",
       "        text-align: right;\n",
       "    }\n",
       "</style>\n",
       "<table border=\"1\" class=\"dataframe\">\n",
       "  <thead>\n",
       "    <tr style=\"text-align: right;\">\n",
       "      <th></th>\n",
       "      <th>0</th>\n",
       "      <th>1</th>\n",
       "      <th>2</th>\n",
       "      <th>3</th>\n",
       "    </tr>\n",
       "  </thead>\n",
       "  <tbody>\n",
       "    <tr>\n",
       "      <th>0</th>\n",
       "      <td>12</td>\n",
       "      <td>10</td>\n",
       "      <td>9</td>\n",
       "      <td>11</td>\n",
       "    </tr>\n",
       "    <tr>\n",
       "      <th>1</th>\n",
       "      <td>14</td>\n",
       "      <td>6</td>\n",
       "      <td>5</td>\n",
       "      <td>8</td>\n",
       "    </tr>\n",
       "    <tr>\n",
       "      <th>2</th>\n",
       "      <td>12</td>\n",
       "      <td>8</td>\n",
       "      <td>8</td>\n",
       "      <td>4</td>\n",
       "    </tr>\n",
       "    <tr>\n",
       "      <th>3</th>\n",
       "      <td>10</td>\n",
       "      <td>5</td>\n",
       "      <td>9</td>\n",
       "      <td>7</td>\n",
       "    </tr>\n",
       "    <tr>\n",
       "      <th>4</th>\n",
       "      <td>7</td>\n",
       "      <td>10</td>\n",
       "      <td>9</td>\n",
       "      <td>11</td>\n",
       "    </tr>\n",
       "  </tbody>\n",
       "</table>\n",
       "</div>"
      ],
      "text/plain": [
       "    0   1  2   3\n",
       "0  12  10  9  11\n",
       "1  14   6  5   8\n",
       "2  12   8  8   4\n",
       "3  10   5  9   7\n",
       "4   7  10  9  11"
      ]
     },
     "execution_count": 38,
     "metadata": {},
     "output_type": "execute_result"
    }
   ],
   "source": [
    "matrix = pd.read_csv('data_ex.csv', delimiter=';', encoding='utf-8', header = None)\n",
    "matrix"
   ]
  },
  {
   "cell_type": "code",
   "execution_count": 40,
   "id": "51f63957",
   "metadata": {},
   "outputs": [
    {
     "data": {
      "text/plain": [
       "array([[12, 10,  9, 11],\n",
       "       [14,  6,  5,  8],\n",
       "       [12,  8,  8,  4],\n",
       "       [10,  5,  9,  7],\n",
       "       [ 7, 10,  9, 11]], dtype=int64)"
      ]
     },
     "execution_count": 40,
     "metadata": {},
     "output_type": "execute_result"
    }
   ],
   "source": [
    "np_matrix = matrix.values\n",
    "np_matrix"
   ]
  },
  {
   "cell_type": "code",
   "execution_count": 57,
   "id": "3581f6b1",
   "metadata": {},
   "outputs": [
    {
     "data": {
      "text/plain": [
       "array([[2, 0, 0, 0],\n",
       "       [0, 4, 4, 3],\n",
       "       [2, 2, 1, 7],\n",
       "       [4, 5, 0, 4],\n",
       "       [7, 0, 0, 0]], dtype=int64)"
      ]
     },
     "execution_count": 57,
     "metadata": {},
     "output_type": "execute_result"
    }
   ],
   "source": [
    "risk = np.zeros_like(matrix)\n",
    "max_st = np.amax(np_matrix, axis=0)\n",
    "max_st\n",
    "\n",
    "np_array_risk1 = np.array([max_st[0]-np_matrix[0][0], \n",
    "                          max_st[0]-np_matrix[1][0], \n",
    "                          max_st[0]-np_matrix[2][0], \n",
    "                          max_st[0]-np_matrix[3][0],\n",
    "                          max_st[0]-np_matrix[4][0]])\n",
    "np_array_risk2 = np.array([max_st[1]-np_matrix[0][1], \n",
    "                          max_st[1]-np_matrix[1][1], \n",
    "                          max_st[1]-np_matrix[2][1], \n",
    "                          max_st[1]-np_matrix[3][1],\n",
    "                          max_st[1]-np_matrix[4][1]])\n",
    "np_array_risk3 = np.array([max_st[2]-np_matrix[0][2], \n",
    "                          max_st[2]-np_matrix[1][2], \n",
    "                          max_st[2]-np_matrix[2][2], \n",
    "                          max_st[2]-np_matrix[3][2],\n",
    "                          max_st[2]-np_matrix[4][2]])\n",
    "np_array_risk4 = np.array([max_st[3]-np_matrix[0][3], \n",
    "                          max_st[3]-np_matrix[1][3], \n",
    "                          max_st[3]-np_matrix[2][3], \n",
    "                          max_st[3]-np_matrix[3][3],\n",
    "                          max_st[3]-np_matrix[4][3]])\n",
    "  \n",
    "risk[:, 0] = np_array_risk1\n",
    "risk[:, 1] = np_array_risk2\n",
    "risk[:, 2] = np_array_risk3\n",
    "risk[:, 3] = np_array_risk4\n",
    "risk"
   ]
  },
  {
   "cell_type": "code",
   "execution_count": 68,
   "id": "8568a356",
   "metadata": {},
   "outputs": [
    {
     "data": {
      "text/plain": [
       "array([2, 4, 7, 5, 7], dtype=int64)"
      ]
     },
     "execution_count": 68,
     "metadata": {},
     "output_type": "execute_result"
    }
   ],
   "source": [
    "max_a = np.amax(risk, axis=1)\n",
    "max_a"
   ]
  },
  {
   "cell_type": "code",
   "execution_count": 86,
   "id": "7643d916",
   "metadata": {},
   "outputs": [
    {
     "name": "stdout",
     "output_type": "stream",
     "text": [
      "Стратегия 1 наиболее выгодная 2  - наименьший элемент\n"
     ]
    }
   ],
   "source": [
    "strat = np.argmin(max_a)\n",
    "if strat == 0:\n",
    "        print(\"Стратегия 1 наиболее выгодная\", np.amin(max_a), \" - наименьший элемент\")\n",
    "if strat == 1:\n",
    "        print(\"Стратегия 2 наиболее выгодная\", np.amin(max_a), \" - наименьший элемент\")\n",
    "if strat == 2:\n",
    "        print(\"Стратегия 3 наиболее выгодная\", np.amin(max_a), \" - наименьший элемент\")\n",
    "if strat == 3:\n",
    "        print(\"Стратегия 4 наиболее выгодная\", np.amin(max_a), \" - наименьший элемент\")  \n",
    "if strat == 4:\n",
    "        print(\"Стратегия 5 наиболее выгодная\", np.amin(max_a), \" - наименьший элемент\")    "
   ]
  },
  {
   "cell_type": "code",
   "execution_count": 81,
   "id": "f1a4cbb7",
   "metadata": {},
   "outputs": [
    {
     "data": {
      "text/plain": [
       "array([[ 2,  4,  5,  3],\n",
       "       [ 0,  8,  9,  6],\n",
       "       [ 2,  6,  6, 10],\n",
       "       [ 4,  9,  5,  7],\n",
       "       [ 7,  4,  5,  3]], dtype=int64)"
      ]
     },
     "execution_count": 81,
     "metadata": {},
     "output_type": "execute_result"
    }
   ],
   "source": [
    "modified_matrix0 = np_matrix*(-1)\n",
    "modified_matrix = modified_matrix0 + np.amax(np_matrix)\n",
    "modified_matrix"
   ]
  },
  {
   "cell_type": "code",
   "execution_count": 82,
   "id": "174dd899",
   "metadata": {},
   "outputs": [
    {
     "data": {
      "text/plain": [
       "array([[5, 5, 4, 7],\n",
       "       [7, 1, 0, 4],\n",
       "       [5, 3, 3, 0],\n",
       "       [3, 0, 4, 3],\n",
       "       [0, 5, 4, 7]], dtype=int64)"
      ]
     },
     "execution_count": 82,
     "metadata": {},
     "output_type": "execute_result"
    }
   ],
   "source": [
    "risk2 = np.zeros_like(modified_matrix)\n",
    "max_st = np.amax(modified_matrix, axis=0)\n",
    "max_st\n",
    "\n",
    "np_array_risk21 = np.array([max_st[0]-modified_matrix[0][0], \n",
    "                          max_st[0]-modified_matrix[1][0], \n",
    "                          max_st[0]-modified_matrix[2][0], \n",
    "                          max_st[0]-modified_matrix[3][0],\n",
    "                          max_st[0]-modified_matrix[4][0]])\n",
    "np_array_risk22 = np.array([max_st[1]-modified_matrix[0][1], \n",
    "                          max_st[1]-modified_matrix[1][1], \n",
    "                          max_st[1]-modified_matrix[2][1], \n",
    "                          max_st[1]-modified_matrix[3][1],\n",
    "                          max_st[1]-modified_matrix[4][1]])\n",
    "np_array_risk23 = np.array([max_st[2]-modified_matrix[0][2], \n",
    "                          max_st[2]-modified_matrix[1][2], \n",
    "                          max_st[2]-modified_matrix[2][2], \n",
    "                          max_st[2]-modified_matrix[3][2],\n",
    "                          max_st[2]-modified_matrix[4][2]])\n",
    "np_array_risk24 = np.array([max_st[3]-modified_matrix[0][3], \n",
    "                          max_st[3]-modified_matrix[1][3], \n",
    "                          max_st[3]-modified_matrix[2][3], \n",
    "                          max_st[3]-modified_matrix[3][3],\n",
    "                          max_st[3]-modified_matrix[4][3]])\n",
    "  \n",
    "risk2[:, 0] = np_array_risk21\n",
    "risk2[:, 1] = np_array_risk22\n",
    "risk2[:, 2] = np_array_risk23\n",
    "risk2[:, 3] = np_array_risk24\n",
    "risk2"
   ]
  },
  {
   "cell_type": "code",
   "execution_count": 85,
   "id": "ffc34bbe",
   "metadata": {},
   "outputs": [
    {
     "name": "stdout",
     "output_type": "stream",
     "text": [
      "Стратегия 4 наименее рискованная 4 - наименьший элемент\n"
     ]
    }
   ],
   "source": [
    "max_a2 = np.amax(risk2, axis=1)\n",
    "max_a2\n",
    "strat = np.argmin(max_a2)\n",
    "if strat == 0:\n",
    "        print(\"Стратегия 1 наименее рискованная. \", np.amin(max_a2), \" - наименьший элемент\")\n",
    "if strat == 1:\n",
    "        print(\"Стратегия 2 наименее рискованная\", np.amin(max_a2), \"- наименьший элемент\")\n",
    "if strat == 2:\n",
    "        print(\"Стратегия 3 наименее рискованная\", np.amin(max_a2), \"- наименьший элемент\")\n",
    "if strat == 3:\n",
    "        print(\"Стратегия 4 наименее рискованная\", np.amin(max_a2), \"- наименьший элемент\")  \n",
    "if strat == 4:\n",
    "        print(\"Стратегия 5 наименее рискованная\", np.amin(max_a2), \"- наименьший элемент\")    "
   ]
  }
 ],
 "metadata": {
  "kernelspec": {
   "display_name": "Python 3 (ipykernel)",
   "language": "python",
   "name": "python3"
  },
  "language_info": {
   "codemirror_mode": {
    "name": "ipython",
    "version": 3
   },
   "file_extension": ".py",
   "mimetype": "text/x-python",
   "name": "python",
   "nbconvert_exporter": "python",
   "pygments_lexer": "ipython3",
   "version": "3.7.3"
  }
 },
 "nbformat": 4,
 "nbformat_minor": 5
}

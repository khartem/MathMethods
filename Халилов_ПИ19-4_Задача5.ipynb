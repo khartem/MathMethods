{
 "cells": [
  {
   "cell_type": "markdown",
   "id": "4dcb637c",
   "metadata": {},
   "source": [
    "Задание 5. Линейное программирование. Графический метод"
   ]
  },
  {
   "cell_type": "code",
   "execution_count": 1,
   "id": "aa546e2c",
   "metadata": {},
   "outputs": [],
   "source": [
    "import numpy as np\n",
    "from scipy.optimize import minimize, LinearConstraint, Bounds\n",
    "import sympy as sym\n",
    "import matplotlib.pyplot as plt"
   ]
  },
  {
   "cell_type": "code",
   "execution_count": 2,
   "id": "85d97cd1",
   "metadata": {},
   "outputs": [
    {
     "name": "stdout",
     "output_type": "stream",
     "text": [
      "Введите числа a, b, c\n",
      "a = -1\n",
      "b = 6\n",
      "c = 1/8\n"
     ]
    }
   ],
   "source": [
    "fr = lambda x: float(x.split('/')[0]) / float(x.split('/')[1]) if '/' in x else float(x)\n",
    "print('Введите числа a, b, c')\n",
    "a = fr(input('a = '))\n",
    "b = fr(input('b = '))\n",
    "c = fr(input('c = '))"
   ]
  },
  {
   "cell_type": "code",
   "execution_count": 19,
   "id": "ddfeb965",
   "metadata": {},
   "outputs": [],
   "source": [
    "def func(xy):\n",
    "    x, y = xy\n",
    "    return -(x + a * y)"
   ]
  },
  {
   "cell_type": "code",
   "execution_count": 20,
   "id": "1562fae8",
   "metadata": {},
   "outputs": [],
   "source": [
    "def gr(xy):\n",
    "    x, y = xy\n",
    "    der = np.zeros_like(xy)\n",
    "    der[0] = -1\n",
    "    der[1] = -a\n",
    "    return der"
   ]
  },
  {
   "cell_type": "code",
   "execution_count": 21,
   "id": "afd4dbdd",
   "metadata": {},
   "outputs": [
    {
     "name": "stdout",
     "output_type": "stream",
     "text": [
      "Optimization terminated successfully    (Exit mode 0)\n",
      "            Current function value: -11.000000000000462\n",
      "            Iterations: 5\n",
      "            Function evaluations: 5\n",
      "            Gradient evaluations: 5\n",
      "[ 8. -3.]\n"
     ]
    }
   ],
   "source": [
    "#Вводим границы, если они есть\n",
    "#Вводим ограничения\n",
    "linear_constraints = [LinearConstraint([1, 2], -np.inf, 10),\n",
    "                      LinearConstraint([3, 2], -np.inf, 18),\n",
    "                      LinearConstraint([1, -1], -b, np.inf),\n",
    "                      LinearConstraint([c, -1], -np.inf, 8*c + 3)]\n",
    "x0 = np.array([1.0, 1.0])\n",
    "res = minimize(func, x0, jac=gr, constraints=linear_constraints, options={'disp': True})\n",
    "u = res.x[0]\n",
    "v = res.x[1]\n",
    "F_max = -res.fun\n",
    "print(res.x)"
   ]
  },
  {
   "cell_type": "code",
   "execution_count": 22,
   "id": "0a76175c",
   "metadata": {},
   "outputs": [
    {
     "name": "stdout",
     "output_type": "stream",
     "text": [
      "Оптимальные значения: x = 8.0, y = -3.0\n",
      "Максимальное значение: 11.0\n"
     ]
    }
   ],
   "source": [
    "print(f'Оптимальные значения: x = {u.round(3)}, y = {v.round(3)}')\n",
    "print('Максимальное значение:',F_max.round(3))"
   ]
  },
  {
   "cell_type": "code",
   "execution_count": 26,
   "id": "37fc9cb6",
   "metadata": {},
   "outputs": [],
   "source": [
    "x1 = np.linspace(-20, 20, 2000)\n",
    "y1 = (10-x1)/2.0\n",
    "y2 = (18-3*x1)/2.0\n",
    "y3 = x1 + b\n",
    "y4 = c*x1 - 8*c - 3\n",
    "y5 = F_max/a - x1/a\n",
    "y6 = 4/a - x1/a"
   ]
  },
  {
   "cell_type": "code",
   "execution_count": 36,
   "id": "35af1a1a",
   "metadata": {},
   "outputs": [
    {
     "data": {
      "image/png": "[encoded data removed]",
      "text/plain": [
       "<Figure size 432x288 with 1 Axes>"
      ]
     },
     "metadata": {
      "needs_background": "light"
     },
     "output_type": "display_data"
    }
   ],
   "source": [
    "d = np.linspace(-20,20,300)\n",
    "x,y = np.meshgrid(d,d)\n",
    "plt.imshow( ((2*y<=10-x) & (2*y<=18-3*x) & (y<=x+b) & (y>=c*x-8*c-3)).astype(int) , \n",
    "                extent=(x.min(),x.max(),y.min(),y.max()),origin=\"lower\", cmap=\"gist_stern_r\", alpha = 0.3);\n",
    "\n",
    "plt.plot(x1, y1, label=r'$2y\\leq 10-x$')\n",
    "plt.plot(x1, y2, label=r'$2y\\leq 18-3x$')\n",
    "plt.plot(x1, y3, label=fr'$y\\leq x + {b}$')\n",
    "plt.plot(x1, y4, label=fr'$y\\geq {c}(x-8)-3$')\n",
    "plt.plot(x1, y5, label=f'F={F_max.round(3)}')\n",
    "plt.plot(x1, y6, label='F=4')\n",
    "plt.xlim(-20,20)\n",
    "plt.ylim(-10,10)\n",
    "plt.plot(u, v, 'ko')\n",
    "plt.text(u + 1, v + 1, f'M*({u.round(3)}, {v.round(3)})')\n",
    "plt.legend(bbox_to_anchor=(1.05, 1), loc=2, borderaxespad=0.)\n",
    "plt.xlabel(r'$x$')\n",
    "plt.ylabel(r'$y$')\n",
    "plt.show()"
   ]
  }
 ],
 "metadata": {
  "kernelspec": {
   "display_name": "Python 3 (ipykernel)",
   "language": "python",
   "name": "python3"
  },
  "language_info": {
   "codemirror_mode": {
    "name": "ipython",
    "version": 3
   },
   "file_extension": ".py",
   "mimetype": "text/x-python",
   "name": "python",
   "nbconvert_exporter": "python",
   "pygments_lexer": "ipython3",
   "version": "3.7.3"
  }
 },
 "nbformat": 4,
 "nbformat_minor": 5
}

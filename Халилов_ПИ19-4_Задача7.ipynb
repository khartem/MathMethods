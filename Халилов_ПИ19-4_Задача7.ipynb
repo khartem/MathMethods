{
 "cells": [
  {
   "cell_type": "markdown",
   "id": "627ca24d",
   "metadata": {},
   "source": [
    "### Задание 7. Транспортная задача"
   ]
  },
  {
   "cell_type": "code",
   "execution_count": 1,
   "id": "55eda7aa",
   "metadata": {},
   "outputs": [],
   "source": [
    "import numpy as np\n",
    "import pandas as pd\n",
    "from scipy.optimize import Bounds, linprog\n",
    "np.set_printoptions(suppress=True)"
   ]
  },
  {
   "cell_type": "code",
   "execution_count": 2,
   "id": "6cfdb12c",
   "metadata": {
    "scrolled": true
   },
   "outputs": [
    {
     "name": "stdout",
     "output_type": "stream",
     "text": [
      "Введите 1 строку матрицы C:\n",
      "16 14 8 10 4\n",
      "Введите 2 строку матрицы C:\n",
      "13 11 12 6 5\n",
      "Введите 3 строку матрицы C:\n",
      "5 9 16 17 27\n",
      "\n",
      "Матрица C:\n",
      "[[16 14  8 10  4]\n",
      " [13 11 12  6  5]\n",
      " [ 5  9 16 17 27]]\n"
     ]
    }
   ],
   "source": [
    "C = np.array([list(map(int, input(f'Введите {i+1} строку матрицы C:\\n').split())) for i in range(3)])\n",
    "print('\\nМатрица C:')\n",
    "print(C)"
   ]
  },
  {
   "cell_type": "code",
   "execution_count": 3,
   "id": "4b5568ed",
   "metadata": {},
   "outputs": [
    {
     "name": "stdout",
     "output_type": "stream",
     "text": [
      "Введите через пробел числа a1, a2, a3:\n",
      "280 330 290\n"
     ]
    }
   ],
   "source": [
    "a1, a2, a3 = map(int, input('Введите через пробел числа a1, a2, a3:\\n').split())"
   ]
  },
  {
   "cell_type": "code",
   "execution_count": 4,
   "id": "d04bf1a9",
   "metadata": {},
   "outputs": [],
   "source": [
    "A = np.array([a1, a2, a3])"
   ]
  },
  {
   "cell_type": "code",
   "execution_count": 5,
   "id": "126ccc8b",
   "metadata": {},
   "outputs": [
    {
     "name": "stdout",
     "output_type": "stream",
     "text": [
      "Введите через пробел числа b1, b2, b3, b4, b5:\n",
      "150 120 210 270 150\n"
     ]
    }
   ],
   "source": [
    "b1, b2, b3, b4, b5 = map(int, input('Введите через пробел числа b1, b2, b3, b4, b5:\\n').split())"
   ]
  },
  {
   "cell_type": "code",
   "execution_count": 6,
   "id": "f364a55a",
   "metadata": {},
   "outputs": [],
   "source": [
    "B = np.array([b1, b2, b3, b4, b5])"
   ]
  },
  {
   "cell_type": "code",
   "execution_count": 27,
   "id": "27843ed2",
   "metadata": {},
   "outputs": [],
   "source": [
    "N = len(A)\n",
    "M = len(B)"
   ]
  },
  {
   "cell_type": "code",
   "execution_count": 28,
   "id": "e0a9c5e6",
   "metadata": {},
   "outputs": [
    {
     "data": {
      "text/html": [
       "<div>\n",
       "<style scoped>\n",
       "    .dataframe tbody tr th:only-of-type {\n",
       "        vertical-align: middle;\n",
       "    }\n",
       "\n",
       "    .dataframe tbody tr th {\n",
       "        vertical-align: top;\n",
       "    }\n",
       "\n",
       "    .dataframe thead th {\n",
       "        text-align: right;\n",
       "    }\n",
       "</style>\n",
       "<table border=\"1\" class=\"dataframe\">\n",
       "  <thead>\n",
       "    <tr style=\"text-align: right;\">\n",
       "      <th>aᵢ \\ bⱼ</th>\n",
       "      <th>150</th>\n",
       "      <th>120</th>\n",
       "      <th>210</th>\n",
       "      <th>270</th>\n",
       "      <th>150</th>\n",
       "    </tr>\n",
       "  </thead>\n",
       "  <tbody>\n",
       "    <tr>\n",
       "      <th>280</th>\n",
       "      <td>16</td>\n",
       "      <td>14</td>\n",
       "      <td>8</td>\n",
       "      <td>10</td>\n",
       "      <td>4</td>\n",
       "    </tr>\n",
       "    <tr>\n",
       "      <th>330</th>\n",
       "      <td>13</td>\n",
       "      <td>11</td>\n",
       "      <td>12</td>\n",
       "      <td>6</td>\n",
       "      <td>5</td>\n",
       "    </tr>\n",
       "    <tr>\n",
       "      <th>290</th>\n",
       "      <td>5</td>\n",
       "      <td>9</td>\n",
       "      <td>16</td>\n",
       "      <td>17</td>\n",
       "      <td>27</td>\n",
       "    </tr>\n",
       "  </tbody>\n",
       "</table>\n",
       "</div>"
      ],
      "text/plain": [
       "aᵢ \\ bⱼ  150  120  210  270  150\n",
       "280       16   14    8   10    4\n",
       "330       13   11   12    6    5\n",
       "290        5    9   16   17   27"
      ]
     },
     "execution_count": 28,
     "metadata": {},
     "output_type": "execute_result"
    }
   ],
   "source": [
    "df = pd.DataFrame(C, columns=B, index=A)\n",
    "df.columns.name = 'aᵢ \\\\ bⱼ'\n",
    "df"
   ]
  },
  {
   "cell_type": "code",
   "execution_count": 29,
   "id": "0fbcdb41",
   "metadata": {},
   "outputs": [
    {
     "name": "stdout",
     "output_type": "stream",
     "text": [
      "Задача закрытого типа\n"
     ]
    }
   ],
   "source": [
    "if sum(A) == sum(B):\n",
    "    print('Задача закрытого типа')\n",
    "else:\n",
    "    print('Задача открытого типа')"
   ]
  },
  {
   "cell_type": "markdown",
   "id": "42e27a16",
   "metadata": {},
   "source": [
    "Допустимый план перевозки груза методом минимальной стоимости"
   ]
  },
  {
   "cell_type": "code",
   "execution_count": 58,
   "id": "28d1c699",
   "metadata": {},
   "outputs": [],
   "source": [
    "P = np.zeros_like(C)\n",
    "INF = 1000000\n",
    "C_copy = C.copy()\n",
    "A_copy = A.copy()\n",
    "B_copy = B.copy()\n",
    "i = 0\n",
    "j = 0"
   ]
  },
  {
   "cell_type": "code",
   "execution_count": 65,
   "id": "065c0086",
   "metadata": {},
   "outputs": [
    {
     "name": "stdout",
     "output_type": "stream",
     "text": [
      "[[1000000 1000000 1000000 1000000 1000000]\n",
      " [1000000 1000000 1000000 1000000 1000000]\n",
      " [1000000 1000000 1000000 1000000 1000000]]\n"
     ]
    }
   ],
   "source": [
    "while not np.all(C_copy == INF):\n",
    "    i, j = np.unravel_index(C_copy.argmin(), C_copy.shape)\n",
    "    P[i][j] = min(A_copy[i], B_copy[j])\n",
    "    if A_copy[i] <= B_copy[j]:\n",
    "        C_copy[i].fill(INF)\n",
    "        B_copy[j] -= A_copy[i]\n",
    "        A_copy[i] = 0\n",
    "    else:\n",
    "        C_copy[:, j].fill(INF)\n",
    "        A_copy[i] -= B[j]\n",
    "        B_copy[j] = 0  "
   ]
  },
  {
   "cell_type": "code",
   "execution_count": 40,
   "id": "bc022b12",
   "metadata": {},
   "outputs": [
    {
     "name": "stdout",
     "output_type": "stream",
     "text": [
      "Опорный план является невырожденным\n"
     ]
    }
   ],
   "source": [
    "if np.count_nonzero(P) == N + M - 1:\n",
    "    print('Опорный план является невырожденным')\n",
    "else:\n",
    "    print('Опорный план является вырожденным')"
   ]
  },
  {
   "cell_type": "code",
   "execution_count": 41,
   "id": "93d8d0a4",
   "metadata": {},
   "outputs": [
    {
     "name": "stdout",
     "output_type": "stream",
     "text": [
      "Полученный план перевозки груза:\n",
      " [[  0   0 130   0 150]\n",
      " [  0   0  60 270   0]\n",
      " [150 120  20   0   0]]\n",
      "Значение целевой функции для этого опорного плана 6130\n"
     ]
    }
   ],
   "source": [
    "F = 0\n",
    "for i in range(N):\n",
    "    for j in range(M):\n",
    "        F += C[i][j] * P[i][j]\n",
    "print('Полученный план перевозки груза:\\n', P)\n",
    "print('Значение целевой функции для этого опорного плана', F)"
   ]
  },
  {
   "cell_type": "markdown",
   "id": "093a5414",
   "metadata": {},
   "source": [
    "Оптимальный план перевозки груза"
   ]
  },
  {
   "cell_type": "code",
   "execution_count": 42,
   "id": "69e4099b",
   "metadata": {},
   "outputs": [],
   "source": [
    "#A_u - матрица коэф. при x1,x2,...,xn в ограничениях, A_u @ x <= b_b (E @ x <= A)\n",
    "#c0 - коэффициенты перед переменными в целевой функции\n",
    "A_u = np.array([[1 if i in range(j*M, M*(j+1)) else 0 for i in range(N*M)] for j in range(N)])\n",
    "b_u = A"
   ]
  },
  {
   "cell_type": "code",
   "execution_count": 43,
   "id": "c73fcc01",
   "metadata": {},
   "outputs": [],
   "source": [
    "#A_ub - матрица коэф. при x1,x2,...,xn в ограничениях, A_eq @ x = b_eq (E @ x = B)\n",
    "#c0 - коэффициенты перед переменными в целевой функции\n",
    "b_eq = B\n",
    "A_eq = np.array([[1 if i % M == j else 0 for i in range(N*M)] for j in range(M)])"
   ]
  },
  {
   "cell_type": "code",
   "execution_count": 44,
   "id": "bbe4a780",
   "metadata": {},
   "outputs": [
    {
     "name": "stdout",
     "output_type": "stream",
     "text": [
      "Primal Feasibility  Dual Feasibility    Duality Gap         Step             Path Parameter      Objective          \n",
      "1.0                 1.0                 1.0                 -                1.0                 173.0               \n",
      "0.1306327387553     0.1306327387553     0.1306327387553     0.8788192907317  0.1306327387553     1100.449313969      \n",
      "0.03181897250588    0.03181897250588    0.03181897250587    0.7810570896456  0.03181897250585    2466.047908114      \n",
      "0.005361274551224   0.005361274551238   0.005361274551236   0.8472010400165  0.005361274551011   4593.444823824      \n",
      "0.001066170730798   0.001066170730801   0.0010661707308     0.8055292353227  0.001066170730756   5622.438688044      \n",
      "2.871636126877e-06  2.871636126411e-06  2.871636126702e-06  0.9987584128955  2.871636118785e-06  5949.02169793       \n",
      "1.436143252222e-10  1.436143136588e-10  1.436143260508e-10  0.99994998868    1.436148148581e-10  5949.999951066      \n",
      "Optimization terminated successfully.\n",
      "         Current function value: 5949.999951 \n",
      "         Iterations: 6\n"
     ]
    },
    {
     "data": {
      "text/plain": [
       "     con: array([0.0000013 , 0.00000104, 0.00000183, 0.00000236, 0.0000013 ])\n",
       "     fun: 5949.999951066457\n",
       " message: 'Optimization terminated successfully.'\n",
       "     nit: 6\n",
       "   slack: array([0.00000243, 0.00000287, 0.00000252])\n",
       "  status: 0\n",
       " success: True\n",
       "       x: array([  0.00000002,   0.00000004, 189.99999815,   0.00000004,\n",
       "        89.99999931,   0.00000003,   0.00000005,   0.0000001 ,\n",
       "       269.99999759,  59.99999936, 149.99999865, 119.99999887,\n",
       "        19.99999991,   0.00000001,   0.00000003])"
      ]
     },
     "execution_count": 44,
     "metadata": {},
     "output_type": "execute_result"
    }
   ],
   "source": [
    "res = linprog(C.flatten(), A_u, b_u, A_eq, b_eq, options={'disp': True})\n",
    "\n",
    "X = res.x.round(3).reshape(N, M)\n",
    "F_min = res.fun.round(3)\n",
    "\n",
    "res"
   ]
  },
  {
   "cell_type": "code",
   "execution_count": 45,
   "id": "80e6e85a",
   "metadata": {},
   "outputs": [
    {
     "name": "stdout",
     "output_type": "stream",
     "text": [
      "Оптимальный план перевозки груза X*:\n",
      " [[  0.   0. 190.   0.  90.]\n",
      " [  0.   0.   0. 270.  60.]\n",
      " [150. 120.  20.   0.   0.]]\n",
      "Оптимальная стоимость перевозки:\n",
      "F_min = F(X*) = 5950.0\n"
     ]
    }
   ],
   "source": [
    "print('Оптимальный план перевозки груза X*:\\n', X)\n",
    "print('Оптимальная стоимость перевозки:\\nF_min = F(X*) =', F_min)"
   ]
  }
 ],
 "metadata": {
  "kernelspec": {
   "display_name": "Python 3 (ipykernel)",
   "language": "python",
   "name": "python3"
  },
  "language_info": {
   "codemirror_mode": {
    "name": "ipython",
    "version": 3
   },
   "file_extension": ".py",
   "mimetype": "text/x-python",
   "name": "python",
   "nbconvert_exporter": "python",
   "pygments_lexer": "ipython3",
   "version": "3.7.3"
  }
 },
 "nbformat": 4,
 "nbformat_minor": 5
}

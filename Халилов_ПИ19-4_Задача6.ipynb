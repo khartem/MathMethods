{
 "cells": [
  {
   "cell_type": "markdown",
   "id": "2cc9865e",
   "metadata": {},
   "source": [
    "### Задание 6. Задача об оптимальном использовании ресурсов"
   ]
  },
  {
   "cell_type": "markdown",
   "id": "f3cccb39",
   "metadata": {},
   "source": [
    "<b>Математическая модель задачи.</b><br>\n",
    "Необходимо максимизировать функцию<br>\n",
    "*F(x1,x2,x3) = (6b + 12)\\*x1 + (5b + 22)\\*x2 + c\\*x3* → max<br>\n",
    "при заданных ограничениях ресурсов:<br>\n",
    "*x1 + 3\\*x2 + a\\*x3 <= 3000*<br>\n",
    "*6\\*x1 + 5\\*x2 + 2\\*x3 <= 3320*<br>\n",
    "*x1, x2, x3 >= 0*"
   ]
  },
  {
   "cell_type": "code",
   "execution_count": 1,
   "id": "9331cd31",
   "metadata": {},
   "outputs": [],
   "source": [
    "import numpy as np\n",
    "import pandas as pd\n",
    "from scipy.optimize import Bounds, linprog\n",
    "import sympy as sym\n",
    "import matplotlib.pyplot as plt\n",
    "from gurobipy import *"
   ]
  },
  {
   "cell_type": "code",
   "execution_count": 2,
   "id": "7b3aef90",
   "metadata": {},
   "outputs": [
    {
     "name": "stdout",
     "output_type": "stream",
     "text": [
      "a = 4\n",
      "b = 1\n",
      "c = 25\n"
     ]
    }
   ],
   "source": [
    "a = int(input('a = '))\n",
    "b = int(input('b = '))\n",
    "c = int(input('c = '))"
   ]
  },
  {
   "cell_type": "markdown",
   "id": "83dc0dbd",
   "metadata": {},
   "source": [
    "#### Оптимальный план производства"
   ]
  },
  {
   "cell_type": "markdown",
   "id": "e4b5a060",
   "metadata": {},
   "source": [
    "linprog"
   ]
  },
  {
   "cell_type": "code",
   "execution_count": 3,
   "id": "605ad0e1",
   "metadata": {},
   "outputs": [],
   "source": [
    "#границы и ограничения\n",
    "bounds = np.array([(0, np.inf), (0, np.inf), (0, np.inf)])\n",
    "a_u = np.array([[1, 3, a], [6, 5, 2]])\n",
    "b_u = np.array([3000, 3320])\n",
    "c0 = np.array([6*b + 12, 5*b + 22, c])"
   ]
  },
  {
   "cell_type": "code",
   "execution_count": 4,
   "id": "cb0a278e",
   "metadata": {},
   "outputs": [
    {
     "name": "stdout",
     "output_type": "stream",
     "text": [
      "Optimization terminated successfully.\n",
      "         Current function value: -23040.000000\n",
      "         Iterations: 2\n",
      "[  0. 520. 360.]\n"
     ]
    }
   ],
   "source": [
    "res = linprog(-c0, a_u, b_u, bounds=bounds, method='simplex', options={'disp': True})\n",
    "\n",
    "x1 = res.x[0]\n",
    "x2 = res.x[1]\n",
    "x3 = res.x[2]\n",
    "F_max = -res.fun\n",
    "print(res.x)"
   ]
  },
  {
   "cell_type": "code",
   "execution_count": 5,
   "id": "6756b83c",
   "metadata": {},
   "outputs": [
    {
     "name": "stdout",
     "output_type": "stream",
     "text": [
      "Оптимальные значения: x1 = 0.0, x2 = 520.0, x3 = 360.0\n",
      "Максимальное значение: 23040.0\n"
     ]
    }
   ],
   "source": [
    "print(f'Оптимальные значения: x1 = {x1.round(5)}, x2 = {x2.round(5)}, x3 = {x3.round(5)}')\n",
    "print('Максимальное значение:',F_max.round(5))"
   ]
  },
  {
   "cell_type": "code",
   "execution_count": 6,
   "id": "71044cc9",
   "metadata": {},
   "outputs": [
    {
     "data": {
      "text/plain": [
       "array([3000., 3320.])"
      ]
     },
     "execution_count": 6,
     "metadata": {},
     "output_type": "execute_result"
    }
   ],
   "source": [
    "b_optimal = np.array([x1 + 3*x2 + a*x3, 6*x1 + 5*x2 + 2*x3]) # Реальный расход ресурсов\n",
    "b_optimal"
   ]
  },
  {
   "cell_type": "code",
   "execution_count": 7,
   "id": "1b012a31",
   "metadata": {},
   "outputs": [
    {
     "data": {
      "text/plain": [
       "array([0., 0.])"
      ]
     },
     "execution_count": 7,
     "metadata": {},
     "output_type": "execute_result"
    }
   ],
   "source": [
    "abs(b_u-b_optimal)"
   ]
  },
  {
   "cell_type": "markdown",
   "id": "c4ba28df",
   "metadata": {},
   "source": [
    "gurobipy"
   ]
  },
  {
   "cell_type": "code",
   "execution_count": 9,
   "id": "e69af856",
   "metadata": {},
   "outputs": [],
   "source": [
    "var_s = ['x1', 'x2', 'x3']                         \n",
    "prof = np.array([6*b + 12, 5*b + 22, c]) # цены\n",
    "res_used = np.array([[1, 3, a], [6, 5, 2]]) # использование ресурсов\n",
    "res_av = np.array([3000, 3320]) # запасы"
   ]
  },
  {
   "cell_type": "code",
   "execution_count": 10,
   "id": "ef06a556",
   "metadata": {},
   "outputs": [
    {
     "name": "stdout",
     "output_type": "stream",
     "text": [
      "Restricted license - for non-production use only - expires 2023-10-25\n",
      "Gurobi Optimizer version 9.5.1 build v9.5.1rc2 (win64)\n",
      "Thread count: 4 physical cores, 8 logical processors, using up to 8 threads\n",
      "Optimize a model with 2 rows, 3 columns and 6 nonzeros\n",
      "Model fingerprint: 0x29d03107\n",
      "Coefficient statistics:\n",
      "  Matrix range     [1e+00, 6e+00]\n",
      "  Objective range  [2e+01, 3e+01]\n",
      "  Bounds range     [0e+00, 0e+00]\n",
      "  RHS range        [3e+03, 3e+03]\n",
      "Presolve time: 0.02s\n",
      "Presolved: 2 rows, 3 columns, 6 nonzeros\n",
      "\n",
      "Iteration    Objective       Primal Inf.    Dual Inf.      Time\n",
      "       0    7.0000000e+31   3.625000e+30   7.000000e+01      0s\n",
      "       3    2.3040000e+04   0.000000e+00   0.000000e+00      0s\n",
      "\n",
      "Solved in 3 iterations and 0.02 seconds (0.00 work units)\n",
      "Optimal objective  2.304000000e+04\n"
     ]
    }
   ],
   "source": [
    "n = len(prof)                                    \n",
    "m = len(res_av)                                 \n",
    "model = Model()\n",
    "x = model.addVars(n, name=var_s) # заносим переменные в модель\n",
    "obj = model.setObjective(quicksum(prof[j] * x[j] for j in range(n)), GRB.MAXIMIZE)\n",
    "con = []\n",
    "for i in range(m):\n",
    "    con.append(model.addConstr(quicksum(res_used[i, j] * x[j] for j in range(n)) <= res_av[i], name=var_s[i]))\n",
    "model.optimize()"
   ]
  },
  {
   "cell_type": "code",
   "execution_count": 11,
   "id": "d17b567f",
   "metadata": {},
   "outputs": [
    {
     "name": "stdout",
     "output_type": "stream",
     "text": [
      "X = [0.0, 520.0, 360.0] \n",
      "Fmax = 23040.0 \n",
      "Оптимальный план двойственной задачи Pi → (y1,y2) = [5.071428571428571, 2.357142857142857]\n",
      "x1 = 0.0\n",
      "Pi1 = 5.071428571428571\n"
     ]
    }
   ],
   "source": [
    "# параметры модели\n",
    "print(\"X =\", model.X, \"\\nFmax =\", model.ObjVal, \"\\nОптимальный план двойственной задачи Pi → (y1,y2) =\", model.Pi) \n",
    "print(\"x1 =\", x[0].X)\n",
    "print(\"Pi1 =\", con[0].Pi)"
   ]
  },
  {
   "cell_type": "code",
   "execution_count": 12,
   "id": "67b12bee",
   "metadata": {},
   "outputs": [
    {
     "name": "stdout",
     "output_type": "stream",
     "text": [
      "\n",
      "    Variable            X          Obj     SAObjLow      SAObjUp \n",
      "----------------------------------------------------------------\n",
      "          x1            0           18         -inf      19.2143 \n",
      "          x2          520           27      26.2273         62.5 \n",
      "          x3          360           25         10.8      26.3077 \n"
     ]
    }
   ],
   "source": [
    "# Оценка устойчивости коэффициентов целевой функции\n",
    "# Минимальные и максимальные значения коэффициентов\n",
    "model.printAttr(['X', 'Obj', 'SAObjLow', 'SAObjUp'])"
   ]
  },
  {
   "cell_type": "code",
   "execution_count": 13,
   "id": "5b4750b3",
   "metadata": {},
   "outputs": [
    {
     "name": "stdout",
     "output_type": "stream",
     "text": [
      "Анализ чувствительности\n",
      "Fmax = 23040.0\n",
      "\n",
      "    Variable            X           RC           LB      SALBLow       SALBUp           UB      SAUBLow       SAUBUp \n",
      "--------------------------------------------------------------------------------------------------------------------\n",
      "          x1            0     -1.21429            0     -387.692      330.909          inf            0          inf \n",
      "          x2          520            0            0         -inf          520          inf          520          inf \n",
      "          x3          360            0            0         -inf          360          inf          360          inf \n",
      "\n",
      "  Constraint        Sense        Slack           Pi          RHS     SARHSLow      SARHSUp \n",
      "------------------------------------------------------------------------------------------\n",
      "          x1            <            0      5.07143         3000         1992         6640 \n",
      "          x2            <            0      2.35714         3320         1500         5000 \n"
     ]
    }
   ],
   "source": [
    "#Решение двойственной к M задачи\n",
    "print('Анализ чувствительности')\n",
    "print('Fmax =', model.ObjVal)\n",
    "model.printAttr(['X', 'RC', 'LB', 'SALBLow', 'SALBUp', 'UB', 'SAUBLow', 'SAUBUp'])\n",
    "model.printAttr(['Sense', 'Slack', 'Pi', 'RHS', 'SARHSLow', 'SARHSUp'])"
   ]
  }
 ],
 "metadata": {
  "kernelspec": {
   "display_name": "Python 3 (ipykernel)",
   "language": "python",
   "name": "python3"
  },
  "language_info": {
   "codemirror_mode": {
    "name": "ipython",
    "version": 3
   },
   "file_extension": ".py",
   "mimetype": "text/x-python",
   "name": "python",
   "nbconvert_exporter": "python",
   "pygments_lexer": "ipython3",
   "version": "3.7.3"
  }
 },
 "nbformat": 4,
 "nbformat_minor": 5
}
